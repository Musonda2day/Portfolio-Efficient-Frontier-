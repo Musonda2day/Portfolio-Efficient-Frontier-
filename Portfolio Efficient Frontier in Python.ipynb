{
 "cells": [
  {
   "cell_type": "markdown",
   "id": "8d11ad5b",
   "metadata": {},
   "source": [
    "# Portfolio Efficient Frontier in Python"
   ]
  },
  {
   "cell_type": "markdown",
   "id": "e9394525",
   "metadata": {},
   "source": [
    "## Introduction\n",
    "\n",
    "Investors often aim at maximizing returns on investment for a given level of risk. This can be achieved by selecting a number of assets in which to invest in so as to minimize the risk and at the same time maximize the returns on investment. An efficient frontier represents a set of optimal portfolios that offer the highest expected returns for a defined level of risk (https://www.investopedia.com/terms/e/efficientfrontier.asp).\n",
    "\n",
    "In this tutorial, we will demonstrate how to construct an efficient portfolio of a two-asset portfolio bnased on the different weight combimnations of the assets. The assets we will use for this demonstration are two S&P 500 Exchange Traded Funds (ETFs) of XLE and XLI. . We then proceed to select a suitable portfolio combination on the efficient frontier based on the risk tolerance and the required expected returns."
   ]
  },
  {
   "cell_type": "markdown",
   "id": "8fb28289",
   "metadata": {},
   "source": [
    "## Import Required Packages"
   ]
  },
  {
   "cell_type": "code",
   "execution_count": 1,
   "id": "1182bf4d",
   "metadata": {},
   "outputs": [],
   "source": [
    "import numpy as np\n",
    "import pandas as pd\n",
    "import yfinance as yf\n",
    "import matplotlib.pyplot as plt"
   ]
  },
  {
   "cell_type": "markdown",
   "id": "b1529bc8",
   "metadata": {},
   "source": [
    "## Load the Data\n",
    "\n",
    "We will use the daily closing prices for the two assets for a one year period from 27 November, 2017 to 26 November, 2018 . The data is downloaded from Yahoo Finance and loaded into a Data frame.            b  "
   ]
  },
  {
   "cell_type": "code",
   "execution_count": 99,
   "id": "07702577",
   "metadata": {},
   "outputs": [
    {
     "name": "stdout",
     "output_type": "stream",
     "text": [
      "[*********************100%***********************]  1 of 1 completed\n",
      "[*********************100%***********************]  1 of 1 completed\n"
     ]
    }
   ],
   "source": [
    "#specifying the assets\n",
    "tickers = ['XLE','XLI']\n",
    "\n",
    "#specifying the start and end dates\n",
    "start = \"2017-11-27\"\n",
    "end = \"2018-11-27\"\n",
    "\n",
    "#downloading price data for the assets\n",
    "data = pd.DataFrame()\n",
    "for ticker in tickers:\n",
    "    data[ticker] = yf.download(ticker, start, end)['Close']"
   ]
  },
  {
   "cell_type": "code",
   "execution_count": 101,
   "id": "daf9ef02",
   "metadata": {},
   "outputs": [
    {
     "data": {
      "text/html": [
       "<div>\n",
       "<style scoped>\n",
       "    .dataframe tbody tr th:only-of-type {\n",
       "        vertical-align: middle;\n",
       "    }\n",
       "\n",
       "    .dataframe tbody tr th {\n",
       "        vertical-align: top;\n",
       "    }\n",
       "\n",
       "    .dataframe thead th {\n",
       "        text-align: right;\n",
       "    }\n",
       "</style>\n",
       "<table border=\"1\" class=\"dataframe\">\n",
       "  <thead>\n",
       "    <tr style=\"text-align: right;\">\n",
       "      <th></th>\n",
       "      <th>XLE</th>\n",
       "      <th>XLI</th>\n",
       "    </tr>\n",
       "    <tr>\n",
       "      <th>Date</th>\n",
       "      <th></th>\n",
       "      <th></th>\n",
       "    </tr>\n",
       "  </thead>\n",
       "  <tbody>\n",
       "    <tr>\n",
       "      <th>2017-11-27</th>\n",
       "      <td>67.190002</td>\n",
       "      <td>71.529999</td>\n",
       "    </tr>\n",
       "    <tr>\n",
       "      <th>2017-11-28</th>\n",
       "      <td>67.709999</td>\n",
       "      <td>72.620003</td>\n",
       "    </tr>\n",
       "    <tr>\n",
       "      <th>2017-11-29</th>\n",
       "      <td>68.080002</td>\n",
       "      <td>73.260002</td>\n",
       "    </tr>\n",
       "    <tr>\n",
       "      <th>2017-11-30</th>\n",
       "      <td>69.099998</td>\n",
       "      <td>74.510002</td>\n",
       "    </tr>\n",
       "    <tr>\n",
       "      <th>2017-12-01</th>\n",
       "      <td>69.680000</td>\n",
       "      <td>73.589996</td>\n",
       "    </tr>\n",
       "  </tbody>\n",
       "</table>\n",
       "</div>"
      ],
      "text/plain": [
       "                  XLE        XLI\n",
       "Date                            \n",
       "2017-11-27  67.190002  71.529999\n",
       "2017-11-28  67.709999  72.620003\n",
       "2017-11-29  68.080002  73.260002\n",
       "2017-11-30  69.099998  74.510002\n",
       "2017-12-01  69.680000  73.589996"
      ]
     },
     "execution_count": 101,
     "metadata": {},
     "output_type": "execute_result"
    }
   ],
   "source": [
    "#view the data\n",
    "data.head()"
   ]
  },
  {
   "cell_type": "markdown",
   "id": "ceea2716",
   "metadata": {},
   "source": [
    "### Plot of the Daily Close Prices\n",
    "\n",
    "We plot the time series of the daily close prices for the two assets."
   ]
  },
  {
   "cell_type": "code",
   "execution_count": 102,
   "id": "fef5aae7",
   "metadata": {},
   "outputs": [
    {
     "data": {
      "image/png": "[encoded data removed]",
      "text/plain": [
       "<Figure size 576x360 with 1 Axes>"
      ]
     },
     "metadata": {
      "needs_background": "light"
     },
     "output_type": "display_data"
    }
   ],
   "source": [
    "plt.figure(figsize=(8,5))\n",
    "\n",
    "plt.plot(data.index, data['XLE'], label='XLE Close')\n",
    "plt.plot(data.index, data['XLI'], label='XLI Close')\n",
    "plt.title('Plot of Close Prices', fontsize=16)\n",
    "plt.xlabel('Date', fontsize=12)\n",
    "plt.ylabel('Close Prices', fontsize=12)\n",
    "plt.legend()\n",
    "plt.show()"
   ]
  },
  {
   "cell_type": "markdown",
   "id": "e469b3e4",
   "metadata": {},
   "source": [
    "## Calculate the Daily Log Returns\n",
    "\n",
    "The portfolio of the two assets is constructed using the daily returns of each of the assets. We calculate the daily returns of each of the assets using the daily log returns. \n",
    "\n",
    "$$R_t=\\ln(\\frac{P_t}{P_{t-1}})$$\n",
    "\n",
    "Were, $R_t$ is the log return at time $t$, $P_t$ is the closing price at time $t$ and $P_{t-1}$ is the closing price for the previous day."
   ]
  },
  {
   "cell_type": "code",
   "execution_count": 103,
   "id": "d2b39991",
   "metadata": {},
   "outputs": [],
   "source": [
    "#create empty Data Frame for returns\n",
    "returns = pd.DataFrame()\n",
    "\n",
    "#calculate daily log returns\n",
    "for ticker in tickers:\n",
    "    returns[ticker] = np.log(data[ticker]/data[ticker].shift(1))\n",
    "\n",
    "#drop rows with NaN\n",
    "returns = returns.dropna()"
   ]
  },
  {
   "cell_type": "code",
   "execution_count": 104,
   "id": "3a82d865",
   "metadata": {},
   "outputs": [
    {
     "data": {
      "text/html": [
       "<div>\n",
       "<style scoped>\n",
       "    .dataframe tbody tr th:only-of-type {\n",
       "        vertical-align: middle;\n",
       "    }\n",
       "\n",
       "    .dataframe tbody tr th {\n",
       "        vertical-align: top;\n",
       "    }\n",
       "\n",
       "    .dataframe thead th {\n",
       "        text-align: right;\n",
       "    }\n",
       "</style>\n",
       "<table border=\"1\" class=\"dataframe\">\n",
       "  <thead>\n",
       "    <tr style=\"text-align: right;\">\n",
       "      <th></th>\n",
       "      <th>XLE</th>\n",
       "      <th>XLI</th>\n",
       "    </tr>\n",
       "    <tr>\n",
       "      <th>Date</th>\n",
       "      <th></th>\n",
       "      <th></th>\n",
       "    </tr>\n",
       "  </thead>\n",
       "  <tbody>\n",
       "    <tr>\n",
       "      <th>2017-11-28</th>\n",
       "      <td>0.007709</td>\n",
       "      <td>0.015123</td>\n",
       "    </tr>\n",
       "    <tr>\n",
       "      <th>2017-11-29</th>\n",
       "      <td>0.005450</td>\n",
       "      <td>0.008774</td>\n",
       "    </tr>\n",
       "    <tr>\n",
       "      <th>2017-11-30</th>\n",
       "      <td>0.014871</td>\n",
       "      <td>0.016919</td>\n",
       "    </tr>\n",
       "    <tr>\n",
       "      <th>2017-12-01</th>\n",
       "      <td>0.008359</td>\n",
       "      <td>-0.012424</td>\n",
       "    </tr>\n",
       "    <tr>\n",
       "      <th>2017-12-04</th>\n",
       "      <td>-0.000431</td>\n",
       "      <td>0.008390</td>\n",
       "    </tr>\n",
       "  </tbody>\n",
       "</table>\n",
       "</div>"
      ],
      "text/plain": [
       "                 XLE       XLI\n",
       "Date                          \n",
       "2017-11-28  0.007709  0.015123\n",
       "2017-11-29  0.005450  0.008774\n",
       "2017-11-30  0.014871  0.016919\n",
       "2017-12-01  0.008359 -0.012424\n",
       "2017-12-04 -0.000431  0.008390"
      ]
     },
     "execution_count": 104,
     "metadata": {},
     "output_type": "execute_result"
    }
   ],
   "source": [
    "returns.head()"
   ]
  },
  {
   "cell_type": "markdown",
   "id": "c14f98c8",
   "metadata": {},
   "source": [
    "### Plot of the Daily Log Returns\n",
    "\n",
    "We plot the time series of the daily log returns for the two assets."
   ]
  },
  {
   "cell_type": "code",
   "execution_count": 105,
   "id": "034ee484",
   "metadata": {},
   "outputs": [
    {
     "data": {
      "image/png": "[encoded data removed]",
      "text/plain": [
       "<Figure size 576x360 with 1 Axes>"
      ]
     },
     "metadata": {
      "needs_background": "light"
     },
     "output_type": "display_data"
    }
   ],
   "source": [
    "plt.figure(figsize=(8,5))\n",
    "\n",
    "plt.plot(returns.index, returns['XLE'], label='XLE Returns')\n",
    "plt.plot(returns.index, returns['XLI'], label='XLI Returns')\n",
    "plt.title('Plot of Daily Returns', fontsize=16)\n",
    "plt.xlabel('Date', fontsize=12)\n",
    "plt.ylabel('Daily Returns', fontsize=12)\n",
    "plt.legend()\n",
    "plt.show()"
   ]
  },
  {
   "cell_type": "markdown",
   "id": "4db6e8ee",
   "metadata": {},
   "source": [
    "## Daily and Annualized Standard Deviation of Returns\n",
    "\n",
    "In constructing the portfolio, we will use the annualized standard deviations of each asset returns. "
   ]
  },
  {
   "cell_type": "code",
   "execution_count": 106,
   "id": "58ea7723",
   "metadata": {},
   "outputs": [
    {
     "data": {
      "text/plain": [
       "XLE    0.012810\n",
       "XLI    0.010772\n",
       "dtype: float64"
      ]
     },
     "execution_count": 106,
     "metadata": {},
     "output_type": "execute_result"
    }
   ],
   "source": [
    "#daily standard deviations\n",
    "daily_std = returns.std()\n",
    "daily_std"
   ]
  },
  {
   "cell_type": "code",
   "execution_count": 107,
   "id": "52385a4b",
   "metadata": {},
   "outputs": [
    {
     "data": {
      "text/plain": [
       "XLE    0.203353\n",
       "XLI    0.171007\n",
       "dtype: float64"
      ]
     },
     "execution_count": 107,
     "metadata": {},
     "output_type": "execute_result"
    }
   ],
   "source": [
    "#annualized standard deviations\n",
    "annualized_std = daily_std * np.sqrt(252)\n",
    "annualized_std"
   ]
  },
  {
   "cell_type": "markdown",
   "id": "ad67815b",
   "metadata": {},
   "source": [
    "## Correlation of Returns\n",
    "\n",
    "We get the correlation of the two asset returns"
   ]
  },
  {
   "cell_type": "code",
   "execution_count": 108,
   "id": "f1f885a8",
   "metadata": {},
   "outputs": [
    {
     "data": {
      "text/html": [
       "<div>\n",
       "<style scoped>\n",
       "    .dataframe tbody tr th:only-of-type {\n",
       "        vertical-align: middle;\n",
       "    }\n",
       "\n",
       "    .dataframe tbody tr th {\n",
       "        vertical-align: top;\n",
       "    }\n",
       "\n",
       "    .dataframe thead th {\n",
       "        text-align: right;\n",
       "    }\n",
       "</style>\n",
       "<table border=\"1\" class=\"dataframe\">\n",
       "  <thead>\n",
       "    <tr style=\"text-align: right;\">\n",
       "      <th></th>\n",
       "      <th>XLE</th>\n",
       "      <th>XLI</th>\n",
       "    </tr>\n",
       "  </thead>\n",
       "  <tbody>\n",
       "    <tr>\n",
       "      <th>XLE</th>\n",
       "      <td>1.000000</td>\n",
       "      <td>0.660426</td>\n",
       "    </tr>\n",
       "    <tr>\n",
       "      <th>XLI</th>\n",
       "      <td>0.660426</td>\n",
       "      <td>1.000000</td>\n",
       "    </tr>\n",
       "  </tbody>\n",
       "</table>\n",
       "</div>"
      ],
      "text/plain": [
       "          XLE       XLI\n",
       "XLE  1.000000  0.660426\n",
       "XLI  0.660426  1.000000"
      ]
     },
     "execution_count": 108,
     "metadata": {},
     "output_type": "execute_result"
    }
   ],
   "source": [
    "ret_corr = returns[['XLE', 'XLI']].corr()\n",
    "ret_corr"
   ]
  },
  {
   "cell_type": "code",
   "execution_count": 109,
   "id": "33cafd6b",
   "metadata": {},
   "outputs": [
    {
     "name": "stdout",
     "output_type": "stream",
     "text": [
      "The Correlation between the two assets is: 0.66\n"
     ]
    }
   ],
   "source": [
    "corr_value = np.round(ret_corr['XLE'][1],3)\n",
    "print('The Correlation between the two assets is:', corr_value)"
   ]
  },
  {
   "cell_type": "markdown",
   "id": "e4ecb5e3",
   "metadata": {},
   "source": [
    "## Construction of an Efficient Frontier\n",
    "\n",
    "We construct an efficient frontier of portfolio based on the different weight combinations of the two ETFs. Using these weight combinations, we calculate the portfolio expected returns and volatility for each. \n",
    "\n",
    "The portfolio expected return is given by the sum of the weighted individual ETF’s returns. \n",
    "\n",
    "$$ R_p=w_1 R_1+w_2 R_2$$\n",
    "\n",
    "Where: $R_p$ is the Expected Portfolio Returns, $R_1$ and $R_2$ are the Expected Returns for the two ETFs and $w_1$ and $w_2$ are the respective weights of the two ETFs.\n",
    "\n",
    "The Portfolio Volatility is computed using the formula for the Two-Asset Portfolio Volatility as shown below:\n",
    "\n",
    "$$ σ_p=\\sqrt{(w_1^2 σ_1^2+w_2^2 σ_2^2+2w_1 σ_1 w_2 σ_2 ρ_{12} )}$$\n",
    "\n",
    "Where: $σ_p$ is the Portfolio Volatility, $σ_1$ and $σ_2$ are the respective Volatilities for the two ETFs, $w_1$ and $w_2$ are the respective weights for the two ETFs and $ρ_{12}$ is the correlation between the two ETFs in the portfolio. \n",
    "\n"
   ]
  },
  {
   "cell_type": "markdown",
   "id": "e1f73db1",
   "metadata": {},
   "source": [
    "### Portfolio Weights\n",
    "\n",
    "We define the weights for the various portfolio combinations. "
   ]
  },
  {
   "cell_type": "code",
   "execution_count": 110,
   "id": "013195b1",
   "metadata": {},
   "outputs": [],
   "source": [
    "#define weights for the two ETFs\n",
    "w1=np.linspace(0,1,11)\n",
    "w2=np.linspace(1,0,11)"
   ]
  },
  {
   "cell_type": "code",
   "execution_count": 111,
   "id": "c88877ba",
   "metadata": {},
   "outputs": [
    {
     "data": {
      "text/html": [
       "<div>\n",
       "<style scoped>\n",
       "    .dataframe tbody tr th:only-of-type {\n",
       "        vertical-align: middle;\n",
       "    }\n",
       "\n",
       "    .dataframe tbody tr th {\n",
       "        vertical-align: top;\n",
       "    }\n",
       "\n",
       "    .dataframe thead th {\n",
       "        text-align: right;\n",
       "    }\n",
       "</style>\n",
       "<table border=\"1\" class=\"dataframe\">\n",
       "  <thead>\n",
       "    <tr style=\"text-align: right;\">\n",
       "      <th></th>\n",
       "      <th>XLE Weight</th>\n",
       "      <th>XLI Weight</th>\n",
       "    </tr>\n",
       "  </thead>\n",
       "  <tbody>\n",
       "    <tr>\n",
       "      <th>0</th>\n",
       "      <td>0.0</td>\n",
       "      <td>1.0</td>\n",
       "    </tr>\n",
       "    <tr>\n",
       "      <th>1</th>\n",
       "      <td>0.1</td>\n",
       "      <td>0.9</td>\n",
       "    </tr>\n",
       "    <tr>\n",
       "      <th>2</th>\n",
       "      <td>0.2</td>\n",
       "      <td>0.8</td>\n",
       "    </tr>\n",
       "    <tr>\n",
       "      <th>3</th>\n",
       "      <td>0.3</td>\n",
       "      <td>0.7</td>\n",
       "    </tr>\n",
       "    <tr>\n",
       "      <th>4</th>\n",
       "      <td>0.4</td>\n",
       "      <td>0.6</td>\n",
       "    </tr>\n",
       "    <tr>\n",
       "      <th>5</th>\n",
       "      <td>0.5</td>\n",
       "      <td>0.5</td>\n",
       "    </tr>\n",
       "    <tr>\n",
       "      <th>6</th>\n",
       "      <td>0.6</td>\n",
       "      <td>0.4</td>\n",
       "    </tr>\n",
       "    <tr>\n",
       "      <th>7</th>\n",
       "      <td>0.7</td>\n",
       "      <td>0.3</td>\n",
       "    </tr>\n",
       "    <tr>\n",
       "      <th>8</th>\n",
       "      <td>0.8</td>\n",
       "      <td>0.2</td>\n",
       "    </tr>\n",
       "    <tr>\n",
       "      <th>9</th>\n",
       "      <td>0.9</td>\n",
       "      <td>0.1</td>\n",
       "    </tr>\n",
       "    <tr>\n",
       "      <th>10</th>\n",
       "      <td>1.0</td>\n",
       "      <td>0.0</td>\n",
       "    </tr>\n",
       "  </tbody>\n",
       "</table>\n",
       "</div>"
      ],
      "text/plain": [
       "    XLE Weight  XLI Weight\n",
       "0          0.0         1.0\n",
       "1          0.1         0.9\n",
       "2          0.2         0.8\n",
       "3          0.3         0.7\n",
       "4          0.4         0.6\n",
       "5          0.5         0.5\n",
       "6          0.6         0.4\n",
       "7          0.7         0.3\n",
       "8          0.8         0.2\n",
       "9          0.9         0.1\n",
       "10         1.0         0.0"
      ]
     },
     "execution_count": 111,
     "metadata": {},
     "output_type": "execute_result"
    }
   ],
   "source": [
    "#construct a dataframe of weights\n",
    "weights_df = pd.DataFrame()\n",
    "\n",
    "weights_df['XLE Weight'] = w1\n",
    "weights_df['XLI Weight'] = w2\n",
    "\n",
    "weights_df"
   ]
  },
  {
   "cell_type": "markdown",
   "id": "6e6f8ee6",
   "metadata": {},
   "source": [
    "### Portfolio Returns and Volatilities"
   ]
  },
  {
   "cell_type": "code",
   "execution_count": 112,
   "id": "8c07f89a",
   "metadata": {},
   "outputs": [
    {
     "data": {
      "text/plain": [
       "XLE    0.203353\n",
       "XLI    0.171007\n",
       "dtype: float64"
      ]
     },
     "execution_count": 112,
     "metadata": {},
     "output_type": "execute_result"
    }
   ],
   "source": [
    "annualized_std"
   ]
  },
  {
   "cell_type": "code",
   "execution_count": 113,
   "id": "03d04374",
   "metadata": {},
   "outputs": [],
   "source": [
    "#volatilities\n",
    "xle_vol = annualized_std[0]\n",
    "xli_vol = annualized_std[1]"
   ]
  },
  {
   "cell_type": "code",
   "execution_count": 114,
   "id": "4519e836",
   "metadata": {},
   "outputs": [
    {
     "data": {
      "text/plain": [
       "(0.20335309806894042, 0.1710067876397469)"
      ]
     },
     "execution_count": 114,
     "metadata": {},
     "output_type": "execute_result"
    }
   ],
   "source": [
    "xle_vol, xli_vol"
   ]
  },
  {
   "cell_type": "code",
   "execution_count": 115,
   "id": "02bda5b5",
   "metadata": {},
   "outputs": [
    {
     "data": {
      "text/plain": [
       "0.66"
      ]
     },
     "execution_count": 115,
     "metadata": {},
     "output_type": "execute_result"
    }
   ],
   "source": [
    "#correlation\n",
    "cor=corr_value\n",
    "cor"
   ]
  },
  {
   "cell_type": "markdown",
   "id": "595debe3",
   "metadata": {},
   "source": [
    "### Expected Returns using Capital Asset Pricing Model (CAPM)\n",
    "\n",
    "The Expected return for each asset using the CAPM is calculated as follows:\n",
    "\n",
    "$$ E(R_i )=R_f+\\beta(R_m-R_f)$$\n",
    "\n",
    "Where:\n",
    "       \n",
    "$ E(R_i)$ is the expected return for the upcoming year of the asset\n",
    "\n",
    "$ R_f $ is the risk-free rate of return = 2.25%\n",
    "\n",
    "$ \\beta $ is the Beta Value of an asset = 1.07 for XLE and 1.06 for XLI\n",
    "\n",
    "$ R_m $ is the is the Market Rate of Return = 9.0%"
   ]
  },
  {
   "cell_type": "code",
   "execution_count": 118,
   "id": "df41ae02",
   "metadata": {},
   "outputs": [],
   "source": [
    "# Define Variables\n",
    "beta_xle = 1.07 #Beta Value of XLE\n",
    "beta_xli = 1.06 #Beta Value of XLI\n",
    "risk_free_rate = 0.0225 # Risk Free Rate\n",
    "market_return = 0.09 #Market Return\n",
    "market_std = 0.15 #Market Standard Deviation"
   ]
  },
  {
   "cell_type": "code",
   "execution_count": 119,
   "id": "2ea27d00",
   "metadata": {},
   "outputs": [],
   "source": [
    "# Expected Return of XLE\n",
    "ret_xle = risk_free_rate + beta_xle * (market_return - risk_free_rate)\n",
    "\n",
    "# Expected Return of XLI\n",
    "ret_xli = risk_free_rate + beta_xli * (market_return - risk_free_rate)\n",
    "\n",
    "# Expected Return of S&P 500\n",
    "ret_sp500 = risk_free_rate + 1 * (market_return - risk_free_rate) #Market beta is 1"
   ]
  },
  {
   "cell_type": "code",
   "execution_count": 120,
   "id": "b5c27678",
   "metadata": {},
   "outputs": [
    {
     "data": {
      "text/plain": [
       "(0.094725, 0.09405)"
      ]
     },
     "execution_count": 120,
     "metadata": {},
     "output_type": "execute_result"
    }
   ],
   "source": [
    "xle_ret=ret_xle\n",
    "xli_ret=ret_xli\n",
    "\n",
    "xle_ret, xli_ret"
   ]
  },
  {
   "cell_type": "code",
   "execution_count": null,
   "id": "b4b55aa8",
   "metadata": {},
   "outputs": [],
   "source": []
  },
  {
   "cell_type": "code",
   "execution_count": 121,
   "id": "4d39f82f",
   "metadata": {},
   "outputs": [],
   "source": [
    "#Compure Returns and Volatility for each combination\n",
    "\n",
    "portfolio = weights_df.copy()\n",
    "\n",
    "#portfolio Returns\n",
    "portfolio['Portfolio Returns'] = ((portfolio['XLE Weight']*xle_ret) + (portfolio['XLI Weight']*xli_ret))\n",
    "\n",
    "#portfolio volatility\n",
    "portfolio['Volatility'] = np.sqrt(((portfolio['XLE Weight'])**2 * xle_vol**2) + \n",
    "                              ((portfolio['XLI Weight'])**2 * xli_vol**2) +\n",
    "                              (2 * (portfolio['XLE Weight']) * xle_vol *\n",
    "                              (portfolio['XLI Weight']) * xli_vol) * cor)"
   ]
  },
  {
   "cell_type": "code",
   "execution_count": 122,
   "id": "d46d2e33",
   "metadata": {},
   "outputs": [
    {
     "data": {
      "text/html": [
       "<div>\n",
       "<style scoped>\n",
       "    .dataframe tbody tr th:only-of-type {\n",
       "        vertical-align: middle;\n",
       "    }\n",
       "\n",
       "    .dataframe tbody tr th {\n",
       "        vertical-align: top;\n",
       "    }\n",
       "\n",
       "    .dataframe thead th {\n",
       "        text-align: right;\n",
       "    }\n",
       "</style>\n",
       "<table border=\"1\" class=\"dataframe\">\n",
       "  <thead>\n",
       "    <tr style=\"text-align: right;\">\n",
       "      <th></th>\n",
       "      <th>XLE Weight</th>\n",
       "      <th>XLI Weight</th>\n",
       "      <th>Portfolio Returns</th>\n",
       "      <th>Volatility</th>\n",
       "    </tr>\n",
       "  </thead>\n",
       "  <tbody>\n",
       "    <tr>\n",
       "      <th>0</th>\n",
       "      <td>0.0</td>\n",
       "      <td>1.0</td>\n",
       "      <td>0.094050</td>\n",
       "      <td>0.171007</td>\n",
       "    </tr>\n",
       "    <tr>\n",
       "      <th>1</th>\n",
       "      <td>0.1</td>\n",
       "      <td>0.9</td>\n",
       "      <td>0.094117</td>\n",
       "      <td>0.168023</td>\n",
       "    </tr>\n",
       "    <tr>\n",
       "      <th>2</th>\n",
       "      <td>0.2</td>\n",
       "      <td>0.8</td>\n",
       "      <td>0.094185</td>\n",
       "      <td>0.166476</td>\n",
       "    </tr>\n",
       "    <tr>\n",
       "      <th>3</th>\n",
       "      <td>0.3</td>\n",
       "      <td>0.7</td>\n",
       "      <td>0.094252</td>\n",
       "      <td>0.166405</td>\n",
       "    </tr>\n",
       "    <tr>\n",
       "      <th>4</th>\n",
       "      <td>0.4</td>\n",
       "      <td>0.6</td>\n",
       "      <td>0.094320</td>\n",
       "      <td>0.167811</td>\n",
       "    </tr>\n",
       "    <tr>\n",
       "      <th>5</th>\n",
       "      <td>0.5</td>\n",
       "      <td>0.5</td>\n",
       "      <td>0.094387</td>\n",
       "      <td>0.170659</td>\n",
       "    </tr>\n",
       "    <tr>\n",
       "      <th>6</th>\n",
       "      <td>0.6</td>\n",
       "      <td>0.4</td>\n",
       "      <td>0.094455</td>\n",
       "      <td>0.174878</td>\n",
       "    </tr>\n",
       "    <tr>\n",
       "      <th>7</th>\n",
       "      <td>0.7</td>\n",
       "      <td>0.3</td>\n",
       "      <td>0.094522</td>\n",
       "      <td>0.180372</td>\n",
       "    </tr>\n",
       "    <tr>\n",
       "      <th>8</th>\n",
       "      <td>0.8</td>\n",
       "      <td>0.2</td>\n",
       "      <td>0.094590</td>\n",
       "      <td>0.187029</td>\n",
       "    </tr>\n",
       "    <tr>\n",
       "      <th>9</th>\n",
       "      <td>0.9</td>\n",
       "      <td>0.1</td>\n",
       "      <td>0.094658</td>\n",
       "      <td>0.194728</td>\n",
       "    </tr>\n",
       "    <tr>\n",
       "      <th>10</th>\n",
       "      <td>1.0</td>\n",
       "      <td>0.0</td>\n",
       "      <td>0.094725</td>\n",
       "      <td>0.203353</td>\n",
       "    </tr>\n",
       "  </tbody>\n",
       "</table>\n",
       "</div>"
      ],
      "text/plain": [
       "    XLE Weight  XLI Weight  Portfolio Returns  Volatility\n",
       "0          0.0         1.0           0.094050    0.171007\n",
       "1          0.1         0.9           0.094117    0.168023\n",
       "2          0.2         0.8           0.094185    0.166476\n",
       "3          0.3         0.7           0.094252    0.166405\n",
       "4          0.4         0.6           0.094320    0.167811\n",
       "5          0.5         0.5           0.094387    0.170659\n",
       "6          0.6         0.4           0.094455    0.174878\n",
       "7          0.7         0.3           0.094522    0.180372\n",
       "8          0.8         0.2           0.094590    0.187029\n",
       "9          0.9         0.1           0.094658    0.194728\n",
       "10         1.0         0.0           0.094725    0.203353"
      ]
     },
     "execution_count": 122,
     "metadata": {},
     "output_type": "execute_result"
    }
   ],
   "source": [
    "portfolio"
   ]
  },
  {
   "cell_type": "markdown",
   "id": "4919631c",
   "metadata": {},
   "source": [
    "## Portfolio Efficient Frontier\n",
    "\n",
    "From the above table, we construct the Efficient Frontier for each portfolio weights combination. The figure below shows the scatter plot for the constructed Efficient Frontier of the portfolios\n"
   ]
  },
  {
   "cell_type": "code",
   "execution_count": 132,
   "id": "24ce38cd",
   "metadata": {},
   "outputs": [
    {
     "data": {
      "image/png": "[encoded data removed]",
      "text/plain": [
       "<Figure size 576x432 with 1 Axes>"
      ]
     },
     "metadata": {
      "needs_background": "light"
     },
     "output_type": "display_data"
    }
   ],
   "source": [
    "## Plot of the Portfolio Efficient Frontier\n",
    "\n",
    "plt.figure(figsize= (8,6))\n",
    "\n",
    "plt.title('Portfolio Efficient Frontier', fontsize=16)\n",
    "plt.scatter(portfolio['Volatility'], \n",
    "            portfolio['Portfolio Returns'],color='r', alpha=0.6)\n",
    "\n",
    "plt.xlabel('Portfolio Volatility', fontsize=12)\n",
    "plt.ylabel('Portfolio Returns', fontsize=12)\n",
    "\n",
    "plt.show()"
   ]
  },
  {
   "cell_type": "markdown",
   "id": "467d32ee",
   "metadata": {},
   "source": [
    "## Selecting a Portfolio with Defined Constraints\n",
    "\n",
    "From the constructed Efficient Frontier above, we choose our portfolio with the following constraints:\n",
    "- The Return greater than 9.43% and\n",
    "- The Volatility not exceeding 16.8%.\n",
    "We achieve this by constructing the threshold lines for returns and volatility on our Efficient Frontier plot as shown below:\n"
   ]
  },
  {
   "cell_type": "code",
   "execution_count": 135,
   "id": "54194067",
   "metadata": {},
   "outputs": [],
   "source": [
    "#Define the Portfolio Constraints\n",
    "Vol_threshold = 0.168\n",
    "return_threshold = 0.0943\n",
    "n = len(portfolio)"
   ]
  },
  {
   "cell_type": "code",
   "execution_count": 145,
   "id": "f1d53b5d",
   "metadata": {},
   "outputs": [],
   "source": [
    "# Data ponts\n",
    "points = []\n",
    "for i, j in zip(portfolio['Volatility'], portfolio['Portfolio Returns']):\n",
    "    points.append((i,j))                       \n",
    "\n",
    "# Portfolio Weights, (xle, xli)\n",
    "w = []\n",
    "for i, j in zip(portfolio['XLE Weight'], portfolio['XLI Weight']):\n",
    "    w.append((np.round(i,1), np.round(j,1)))"
   ]
  },
  {
   "cell_type": "code",
   "execution_count": 146,
   "id": "e801bcdf",
   "metadata": {},
   "outputs": [
    {
     "data": {
      "image/png": "[encoded data removed]",
      "text/plain": [
       "<Figure size 576x432 with 1 Axes>"
      ]
     },
     "metadata": {
      "needs_background": "light"
     },
     "output_type": "display_data"
    }
   ],
   "source": [
    "#Plot of the Portfolio Efficient Frontier with the Constraints\n",
    "\n",
    "plt.figure(figsize= (8,6))\n",
    "\n",
    "plt.title('Portfolio Efficient Frontier', fontsize=16)\n",
    "\n",
    "plt.plot(portfolio['Volatility'], portfolio['Portfolio Returns'],'-or', \n",
    "         alpha=0.6, label='Efficient Frontier')\n",
    "\n",
    "plt.plot(n * [Vol_threshold], portfolio['Portfolio Returns'],\n",
    "        label = 'Volatility Threshold')\n",
    "\n",
    "plt.plot(np.linspace(0.165,0.205,11), n * [return_threshold],\n",
    "        label = 'Returns Threshold')\n",
    "\n",
    "for i, j in zip(points, w):\n",
    "    plt.text(i[0],i[1],j)\n",
    "\n",
    "plt.legend()\n",
    "plt.show()"
   ]
  },
  {
   "cell_type": "markdown",
   "id": "383edc14",
   "metadata": {},
   "source": [
    "From the plot above, we want to pick a portfolio with returns greater than 9.43% which lies above the Returns Threshold Line. The portfolio should also have a Volatility not exceeding 16.8% meaning it should lie on the Volatility Threshold line or to the left side of it. We can see from the plot that the only combination which satisfies the above constraints is the portfolio with 40% XLE and 60% XLI. "
   ]
  },
  {
   "cell_type": "code",
   "execution_count": null,
   "id": "04bf4517",
   "metadata": {},
   "outputs": [],
   "source": []
  }
 ],
 "metadata": {
  "kernelspec": {
   "display_name": "Python 3",
   "language": "python",
   "name": "python3"
  },
  "language_info": {
   "codemirror_mode": {
    "name": "ipython",
    "version": 3
   },
   "file_extension": ".py",
   "mimetype": "text/x-python",
   "name": "python",
   "nbconvert_exporter": "python",
   "pygments_lexer": "ipython3",
   "version": "3.8.8"
  }
 },
 "nbformat": 4,
 "nbformat_minor": 5
}
