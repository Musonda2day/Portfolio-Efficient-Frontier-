{
 "cells": [
  {
   "cell_type": "markdown",
   "metadata": {},
   "source": [
    "### Import the Necessary Packages"
   ]
  },
  {
   "cell_type": "code",
   "execution_count": 59,
   "metadata": {},
   "outputs": [],
   "source": [
    "import numpy as np\n",
    "import pandas as pd\n",
    "from pandas import DataFrame\n",
    "from pandas import ExcelWriter\n",
    "from pandas import ExcelFile\n",
    "import matplotlib.pyplot as plt\n",
    "import seaborn as sns\n",
    "sns.set()"
   ]
  },
  {
   "cell_type": "markdown",
   "metadata": {},
   "source": [
    "### Load the Dataset"
   ]
  },
  {
   "cell_type": "code",
   "execution_count": 60,
   "metadata": {},
   "outputs": [],
   "source": [
    "data = pd.read_excel('Data.xlsx', sheet_name='Data')"
   ]
  },
  {
   "cell_type": "code",
   "execution_count": 61,
   "metadata": {
    "scrolled": true
   },
   "outputs": [
    {
     "data": {
      "text/html": [
       "<div>\n",
       "<style scoped>\n",
       "    .dataframe tbody tr th:only-of-type {\n",
       "        vertical-align: middle;\n",
       "    }\n",
       "\n",
       "    .dataframe tbody tr th {\n",
       "        vertical-align: top;\n",
       "    }\n",
       "\n",
       "    .dataframe thead th {\n",
       "        text-align: right;\n",
       "    }\n",
       "</style>\n",
       "<table border=\"1\" class=\"dataframe\">\n",
       "  <thead>\n",
       "    <tr style=\"text-align: right;\">\n",
       "      <th></th>\n",
       "      <th>Date</th>\n",
       "      <th>XLE Closing price</th>\n",
       "      <th>XLI Closing price</th>\n",
       "      <th>S&amp;P 500 Closing price</th>\n",
       "    </tr>\n",
       "  </thead>\n",
       "  <tbody>\n",
       "    <tr>\n",
       "      <th>0</th>\n",
       "      <td>2017-11-27</td>\n",
       "      <td>67.190002</td>\n",
       "      <td>71.529999</td>\n",
       "      <td>2601.419922</td>\n",
       "    </tr>\n",
       "    <tr>\n",
       "      <th>1</th>\n",
       "      <td>2017-11-28</td>\n",
       "      <td>67.709999</td>\n",
       "      <td>72.620003</td>\n",
       "      <td>2627.040039</td>\n",
       "    </tr>\n",
       "    <tr>\n",
       "      <th>2</th>\n",
       "      <td>2017-11-29</td>\n",
       "      <td>68.080002</td>\n",
       "      <td>73.260002</td>\n",
       "      <td>2626.070068</td>\n",
       "    </tr>\n",
       "    <tr>\n",
       "      <th>3</th>\n",
       "      <td>2017-11-30</td>\n",
       "      <td>69.099998</td>\n",
       "      <td>74.510002</td>\n",
       "      <td>2647.580078</td>\n",
       "    </tr>\n",
       "    <tr>\n",
       "      <th>4</th>\n",
       "      <td>2017-12-01</td>\n",
       "      <td>69.680000</td>\n",
       "      <td>73.589996</td>\n",
       "      <td>2642.219971</td>\n",
       "    </tr>\n",
       "  </tbody>\n",
       "</table>\n",
       "</div>"
      ],
      "text/plain": [
       "        Date  XLE Closing price  XLI Closing price  S&P 500 Closing price\n",
       "0 2017-11-27          67.190002          71.529999            2601.419922\n",
       "1 2017-11-28          67.709999          72.620003            2627.040039\n",
       "2 2017-11-29          68.080002          73.260002            2626.070068\n",
       "3 2017-11-30          69.099998          74.510002            2647.580078\n",
       "4 2017-12-01          69.680000          73.589996            2642.219971"
      ]
     },
     "execution_count": 61,
     "metadata": {},
     "output_type": "execute_result"
    }
   ],
   "source": [
    "data.head()"
   ]
  },
  {
   "cell_type": "markdown",
   "metadata": {},
   "source": [
    "### Add Daily Log Returns to the Data Set\n",
    "\n",
    "The following is the formula that is used for calculating the daily log returns of the two ETFs and the S&P 500: \n",
    "\n",
    "$$ R_t = ln(\\frac{P_t}{P_{t-1}}) $$\n",
    "\n",
    "Where:\n",
    "\n",
    "$𝑅_t$ is the log return at time $t$\n",
    "\n",
    "$𝑃_t$ is the Close Price at time $t$\n",
    "\n",
    "$𝑃_{t-1}$ is the Close Price at time $t-1$"
   ]
  },
  {
   "cell_type": "code",
   "execution_count": 62,
   "metadata": {},
   "outputs": [],
   "source": [
    "data['XLE Ret']=np.log(data['XLE Closing price']/data['XLE Closing price'].shift(1))\n",
    "data['XLI Ret']=np.log(data['XLI Closing price']/data['XLI Closing price'].shift(1))\n",
    "data['S&P500 Ret']=np.log(data['S&P 500 Closing price']/data['S&P 500 Closing price'].shift(1))"
   ]
  },
  {
   "cell_type": "code",
   "execution_count": 63,
   "metadata": {},
   "outputs": [],
   "source": [
    "# Drop the NaN \n",
    "data_df = data.copy()\n",
    "data_df = data_df.dropna()"
   ]
  },
  {
   "cell_type": "code",
   "execution_count": 64,
   "metadata": {
    "scrolled": true
   },
   "outputs": [
    {
     "data": {
      "text/html": [
       "<div>\n",
       "<style scoped>\n",
       "    .dataframe tbody tr th:only-of-type {\n",
       "        vertical-align: middle;\n",
       "    }\n",
       "\n",
       "    .dataframe tbody tr th {\n",
       "        vertical-align: top;\n",
       "    }\n",
       "\n",
       "    .dataframe thead th {\n",
       "        text-align: right;\n",
       "    }\n",
       "</style>\n",
       "<table border=\"1\" class=\"dataframe\">\n",
       "  <thead>\n",
       "    <tr style=\"text-align: right;\">\n",
       "      <th></th>\n",
       "      <th>Date</th>\n",
       "      <th>XLE Closing price</th>\n",
       "      <th>XLI Closing price</th>\n",
       "      <th>S&amp;P 500 Closing price</th>\n",
       "      <th>XLE Ret</th>\n",
       "      <th>XLI Ret</th>\n",
       "      <th>S&amp;P500 Ret</th>\n",
       "    </tr>\n",
       "  </thead>\n",
       "  <tbody>\n",
       "    <tr>\n",
       "      <th>1</th>\n",
       "      <td>2017-11-28</td>\n",
       "      <td>67.709999</td>\n",
       "      <td>72.620003</td>\n",
       "      <td>2627.040039</td>\n",
       "      <td>0.007709</td>\n",
       "      <td>0.015123</td>\n",
       "      <td>0.009800</td>\n",
       "    </tr>\n",
       "    <tr>\n",
       "      <th>2</th>\n",
       "      <td>2017-11-29</td>\n",
       "      <td>68.080002</td>\n",
       "      <td>73.260002</td>\n",
       "      <td>2626.070068</td>\n",
       "      <td>0.005450</td>\n",
       "      <td>0.008774</td>\n",
       "      <td>-0.000369</td>\n",
       "    </tr>\n",
       "    <tr>\n",
       "      <th>3</th>\n",
       "      <td>2017-11-30</td>\n",
       "      <td>69.099998</td>\n",
       "      <td>74.510002</td>\n",
       "      <td>2647.580078</td>\n",
       "      <td>0.014871</td>\n",
       "      <td>0.016919</td>\n",
       "      <td>0.008158</td>\n",
       "    </tr>\n",
       "    <tr>\n",
       "      <th>4</th>\n",
       "      <td>2017-12-01</td>\n",
       "      <td>69.680000</td>\n",
       "      <td>73.589996</td>\n",
       "      <td>2642.219971</td>\n",
       "      <td>0.008359</td>\n",
       "      <td>-0.012424</td>\n",
       "      <td>-0.002027</td>\n",
       "    </tr>\n",
       "    <tr>\n",
       "      <th>5</th>\n",
       "      <td>2017-12-04</td>\n",
       "      <td>69.650002</td>\n",
       "      <td>74.209999</td>\n",
       "      <td>2639.439941</td>\n",
       "      <td>-0.000431</td>\n",
       "      <td>0.008390</td>\n",
       "      <td>-0.001053</td>\n",
       "    </tr>\n",
       "  </tbody>\n",
       "</table>\n",
       "</div>"
      ],
      "text/plain": [
       "        Date  XLE Closing price  XLI Closing price  S&P 500 Closing price  \\\n",
       "1 2017-11-28          67.709999          72.620003            2627.040039   \n",
       "2 2017-11-29          68.080002          73.260002            2626.070068   \n",
       "3 2017-11-30          69.099998          74.510002            2647.580078   \n",
       "4 2017-12-01          69.680000          73.589996            2642.219971   \n",
       "5 2017-12-04          69.650002          74.209999            2639.439941   \n",
       "\n",
       "    XLE Ret   XLI Ret  S&P500 Ret  \n",
       "1  0.007709  0.015123    0.009800  \n",
       "2  0.005450  0.008774   -0.000369  \n",
       "3  0.014871  0.016919    0.008158  \n",
       "4  0.008359 -0.012424   -0.002027  \n",
       "5 -0.000431  0.008390   -0.001053  "
      ]
     },
     "execution_count": 64,
     "metadata": {},
     "output_type": "execute_result"
    }
   ],
   "source": [
    "data_df.head()"
   ]
  },
  {
   "cell_type": "markdown",
   "metadata": {},
   "source": [
    "### Get Descriptive Statistics of the Data"
   ]
  },
  {
   "cell_type": "code",
   "execution_count": 65,
   "metadata": {},
   "outputs": [],
   "source": [
    "data_stats = data_df.describe()"
   ]
  },
  {
   "cell_type": "code",
   "execution_count": 66,
   "metadata": {},
   "outputs": [
    {
     "data": {
      "text/html": [
       "<div>\n",
       "<style scoped>\n",
       "    .dataframe tbody tr th:only-of-type {\n",
       "        vertical-align: middle;\n",
       "    }\n",
       "\n",
       "    .dataframe tbody tr th {\n",
       "        vertical-align: top;\n",
       "    }\n",
       "\n",
       "    .dataframe thead th {\n",
       "        text-align: right;\n",
       "    }\n",
       "</style>\n",
       "<table border=\"1\" class=\"dataframe\">\n",
       "  <thead>\n",
       "    <tr style=\"text-align: right;\">\n",
       "      <th></th>\n",
       "      <th>XLE Closing price</th>\n",
       "      <th>XLI Closing price</th>\n",
       "      <th>S&amp;P 500 Closing price</th>\n",
       "      <th>XLE Ret</th>\n",
       "      <th>XLI Ret</th>\n",
       "      <th>S&amp;P500 Ret</th>\n",
       "    </tr>\n",
       "  </thead>\n",
       "  <tbody>\n",
       "    <tr>\n",
       "      <th>count</th>\n",
       "      <td>250.000000</td>\n",
       "      <td>250.000000</td>\n",
       "      <td>250.000000</td>\n",
       "      <td>250.000000</td>\n",
       "      <td>250.000000</td>\n",
       "      <td>250.000000</td>\n",
       "    </tr>\n",
       "    <tr>\n",
       "      <th>mean</th>\n",
       "      <td>72.568040</td>\n",
       "      <td>75.246280</td>\n",
       "      <td>2752.444162</td>\n",
       "      <td>-0.000200</td>\n",
       "      <td>-0.000102</td>\n",
       "      <td>0.000048</td>\n",
       "    </tr>\n",
       "    <tr>\n",
       "      <th>std</th>\n",
       "      <td>3.794661</td>\n",
       "      <td>2.580440</td>\n",
       "      <td>86.194618</td>\n",
       "      <td>0.012800</td>\n",
       "      <td>0.010784</td>\n",
       "      <td>0.009360</td>\n",
       "    </tr>\n",
       "    <tr>\n",
       "      <th>min</th>\n",
       "      <td>63.910000</td>\n",
       "      <td>67.949997</td>\n",
       "      <td>2581.000000</td>\n",
       "      <td>-0.042860</td>\n",
       "      <td>-0.046453</td>\n",
       "      <td>-0.041843</td>\n",
       "    </tr>\n",
       "    <tr>\n",
       "      <th>25%</th>\n",
       "      <td>68.697502</td>\n",
       "      <td>73.477501</td>\n",
       "      <td>2682.807434</td>\n",
       "      <td>-0.005813</td>\n",
       "      <td>-0.004430</td>\n",
       "      <td>-0.003907</td>\n",
       "    </tr>\n",
       "    <tr>\n",
       "      <th>50%</th>\n",
       "      <td>73.715000</td>\n",
       "      <td>75.275002</td>\n",
       "      <td>2739.670044</td>\n",
       "      <td>0.000263</td>\n",
       "      <td>0.001188</td>\n",
       "      <td>0.000546</td>\n",
       "    </tr>\n",
       "    <tr>\n",
       "      <th>75%</th>\n",
       "      <td>75.607502</td>\n",
       "      <td>76.887499</td>\n",
       "      <td>2815.187561</td>\n",
       "      <td>0.007787</td>\n",
       "      <td>0.006637</td>\n",
       "      <td>0.005216</td>\n",
       "    </tr>\n",
       "    <tr>\n",
       "      <th>max</th>\n",
       "      <td>78.910004</td>\n",
       "      <td>80.660004</td>\n",
       "      <td>2930.750000</td>\n",
       "      <td>0.032566</td>\n",
       "      <td>0.023908</td>\n",
       "      <td>0.026795</td>\n",
       "    </tr>\n",
       "  </tbody>\n",
       "</table>\n",
       "</div>"
      ],
      "text/plain": [
       "       XLE Closing price  XLI Closing price  S&P 500 Closing price  \\\n",
       "count         250.000000         250.000000             250.000000   \n",
       "mean           72.568040          75.246280            2752.444162   \n",
       "std             3.794661           2.580440              86.194618   \n",
       "min            63.910000          67.949997            2581.000000   \n",
       "25%            68.697502          73.477501            2682.807434   \n",
       "50%            73.715000          75.275002            2739.670044   \n",
       "75%            75.607502          76.887499            2815.187561   \n",
       "max            78.910004          80.660004            2930.750000   \n",
       "\n",
       "          XLE Ret     XLI Ret  S&P500 Ret  \n",
       "count  250.000000  250.000000  250.000000  \n",
       "mean    -0.000200   -0.000102    0.000048  \n",
       "std      0.012800    0.010784    0.009360  \n",
       "min     -0.042860   -0.046453   -0.041843  \n",
       "25%     -0.005813   -0.004430   -0.003907  \n",
       "50%      0.000263    0.001188    0.000546  \n",
       "75%      0.007787    0.006637    0.005216  \n",
       "max      0.032566    0.023908    0.026795  "
      ]
     },
     "execution_count": 66,
     "metadata": {},
     "output_type": "execute_result"
    }
   ],
   "source": [
    "data_stats"
   ]
  },
  {
   "cell_type": "markdown",
   "metadata": {},
   "source": [
    "### Plot the Time Series Plots and the Log Return Plots"
   ]
  },
  {
   "cell_type": "code",
   "execution_count": 67,
   "metadata": {
    "scrolled": true
   },
   "outputs": [
    {
     "data": {
      "text/html": [
       "<div>\n",
       "<style scoped>\n",
       "    .dataframe tbody tr th:only-of-type {\n",
       "        vertical-align: middle;\n",
       "    }\n",
       "\n",
       "    .dataframe tbody tr th {\n",
       "        vertical-align: top;\n",
       "    }\n",
       "\n",
       "    .dataframe thead th {\n",
       "        text-align: right;\n",
       "    }\n",
       "</style>\n",
       "<table border=\"1\" class=\"dataframe\">\n",
       "  <thead>\n",
       "    <tr style=\"text-align: right;\">\n",
       "      <th></th>\n",
       "      <th>Date</th>\n",
       "      <th>XLE Closing price</th>\n",
       "      <th>XLI Closing price</th>\n",
       "      <th>S&amp;P 500 Closing price</th>\n",
       "      <th>XLE Ret</th>\n",
       "      <th>XLI Ret</th>\n",
       "      <th>S&amp;P500 Ret</th>\n",
       "    </tr>\n",
       "  </thead>\n",
       "  <tbody>\n",
       "    <tr>\n",
       "      <th>1</th>\n",
       "      <td>2017-11-28</td>\n",
       "      <td>67.709999</td>\n",
       "      <td>72.620003</td>\n",
       "      <td>2627.040039</td>\n",
       "      <td>0.007709</td>\n",
       "      <td>0.015123</td>\n",
       "      <td>0.009800</td>\n",
       "    </tr>\n",
       "    <tr>\n",
       "      <th>2</th>\n",
       "      <td>2017-11-29</td>\n",
       "      <td>68.080002</td>\n",
       "      <td>73.260002</td>\n",
       "      <td>2626.070068</td>\n",
       "      <td>0.005450</td>\n",
       "      <td>0.008774</td>\n",
       "      <td>-0.000369</td>\n",
       "    </tr>\n",
       "    <tr>\n",
       "      <th>3</th>\n",
       "      <td>2017-11-30</td>\n",
       "      <td>69.099998</td>\n",
       "      <td>74.510002</td>\n",
       "      <td>2647.580078</td>\n",
       "      <td>0.014871</td>\n",
       "      <td>0.016919</td>\n",
       "      <td>0.008158</td>\n",
       "    </tr>\n",
       "    <tr>\n",
       "      <th>4</th>\n",
       "      <td>2017-12-01</td>\n",
       "      <td>69.680000</td>\n",
       "      <td>73.589996</td>\n",
       "      <td>2642.219971</td>\n",
       "      <td>0.008359</td>\n",
       "      <td>-0.012424</td>\n",
       "      <td>-0.002027</td>\n",
       "    </tr>\n",
       "    <tr>\n",
       "      <th>5</th>\n",
       "      <td>2017-12-04</td>\n",
       "      <td>69.650002</td>\n",
       "      <td>74.209999</td>\n",
       "      <td>2639.439941</td>\n",
       "      <td>-0.000431</td>\n",
       "      <td>0.008390</td>\n",
       "      <td>-0.001053</td>\n",
       "    </tr>\n",
       "  </tbody>\n",
       "</table>\n",
       "</div>"
      ],
      "text/plain": [
       "        Date  XLE Closing price  XLI Closing price  S&P 500 Closing price  \\\n",
       "1 2017-11-28          67.709999          72.620003            2627.040039   \n",
       "2 2017-11-29          68.080002          73.260002            2626.070068   \n",
       "3 2017-11-30          69.099998          74.510002            2647.580078   \n",
       "4 2017-12-01          69.680000          73.589996            2642.219971   \n",
       "5 2017-12-04          69.650002          74.209999            2639.439941   \n",
       "\n",
       "    XLE Ret   XLI Ret  S&P500 Ret  \n",
       "1  0.007709  0.015123    0.009800  \n",
       "2  0.005450  0.008774   -0.000369  \n",
       "3  0.014871  0.016919    0.008158  \n",
       "4  0.008359 -0.012424   -0.002027  \n",
       "5 -0.000431  0.008390   -0.001053  "
      ]
     },
     "execution_count": 67,
     "metadata": {},
     "output_type": "execute_result"
    }
   ],
   "source": [
    "data_df.head()"
   ]
  },
  {
   "cell_type": "code",
   "execution_count": null,
   "metadata": {},
   "outputs": [],
   "source": []
  },
  {
   "cell_type": "code",
   "execution_count": 68,
   "metadata": {},
   "outputs": [
    {
     "data": {
      "image/png": "[encoded data removed]",
      "text/plain": [
       "<Figure size 576x360 with 2 Axes>"
      ]
     },
     "metadata": {},
     "output_type": "display_data"
    }
   ],
   "source": [
    "# Plot Time Series Closing Prices\n",
    "\n",
    "fig, ax1 = plt.subplots(figsize=(8,5))\n",
    "\n",
    "plt.title('Plot of Close Prices - S&P 500, XLE and XLI', fontsize=16)\n",
    "\n",
    "ax1.set_xlabel('Date', fontsize=12)\n",
    "ax1.set_ylabel('S&P500', fontsize=12)\n",
    "ax1.plot(data_df.Date, data_df['S&P 500 Closing price'], label='S&P 500 Index')\n",
    "ax1.tick_params(axis='y')\n",
    "plt.legend(loc='best')\n",
    "\n",
    "ax2 = ax1.twinx()  \n",
    "\n",
    "ax2.set_ylabel('XLE and XLI', fontsize=12) \n",
    "ax2.plot(data_df.Date, data_df['XLE Closing price'], label='XLE', color = 'magenta', alpha=0.5)\n",
    "ax2.plot(data_df.Date, data_df['XLI Closing price'], label='XLI', color = 'green', alpha=0.5)\n",
    "ax2.tick_params(axis='y')\n",
    "plt.legend()\n",
    "\n",
    "fig.tight_layout() \n",
    "plt.show()"
   ]
  },
  {
   "cell_type": "code",
   "execution_count": 69,
   "metadata": {},
   "outputs": [
    {
     "data": {
      "image/png": "[encoded data removed]",
      "text/plain": [
       "<Figure size 576x360 with 1 Axes>"
      ]
     },
     "metadata": {},
     "output_type": "display_data"
    }
   ],
   "source": [
    "# Plot Log Returns\n",
    "\n",
    "plt.figure(figsize= (8,5))\n",
    "\n",
    "plt.plot(data_df['Date'],\n",
    "         data_df['S&P500 Ret'], label='S&P 500 Log Returns')\n",
    "plt.plot(data_df['Date'],\n",
    "         data_df['XLE Ret'], label='XLE Log Returns',color = 'magenta', alpha=0.4)\n",
    "plt.plot(data_df['Date'],\n",
    "         data_df['XLI Ret'], label='XLI Log Returns',color = 'green', alpha=0.4)\n",
    "plt.title('Plot of Log Returns', fontsize=16)\n",
    "plt.xlabel('Date', fontsize=12)\n",
    "plt.ylabel('Log Return', fontsize=12)\n",
    "plt.legend()\n",
    "\n",
    "plt.show()"
   ]
  },
  {
   "cell_type": "markdown",
   "metadata": {},
   "source": [
    "### Daily and Annualized Standard Deviation of Returns"
   ]
  },
  {
   "cell_type": "code",
   "execution_count": 70,
   "metadata": {},
   "outputs": [],
   "source": [
    "XLE_std_daily = data_stats['XLE Ret'][2]\n",
    "XLE_std_annualized = np.round(XLE_std_daily * np.sqrt(252),4)\n",
    "\n",
    "XLI_std_daily = data_stats['XLI Ret'][2]\n",
    "XLI_std_annualized = np.round(XLI_std_daily * np.sqrt(252),4)\n",
    "\n",
    "SP500_std_daily = data_stats['S&P500 Ret'][2]\n",
    "SP500_std_annualized = np.round(SP500_std_daily * np.sqrt(252),4)"
   ]
  },
  {
   "cell_type": "code",
   "execution_count": 71,
   "metadata": {
    "scrolled": true
   },
   "outputs": [
    {
     "name": "stdout",
     "output_type": "stream",
     "text": [
      "Daily Standard Deviation\n",
      "             Absolute Percentage\n",
      "=================================\n",
      "XLE:         0.0128     1.28 %\n",
      "XLI:         0.0108     1.08 %\n",
      "S&P 500:     0.0094     0.94 %\n"
     ]
    }
   ],
   "source": [
    "print('Daily Standard Deviation')\n",
    "print('             Absolute', 'Percentage')\n",
    "print('=================================')\n",
    "print('XLE:        ', np.round(XLE_std_daily,4), '   ', round(XLE_std_daily*100, 2),'%')\n",
    "print('XLI:        ', np.round(XLI_std_daily,4), '   ', round(XLI_std_daily*100, 2),'%')\n",
    "print('S&P 500:    ', np.round(SP500_std_daily,4), '   ', round(SP500_std_daily*100, 2),'%')"
   ]
  },
  {
   "cell_type": "code",
   "execution_count": 72,
   "metadata": {},
   "outputs": [
    {
     "name": "stdout",
     "output_type": "stream",
     "text": [
      "Anualized Standard Deviation\n",
      "             Absolute Percentage\n",
      "=================================\n",
      "XLE:         0.2032    20.32 %\n",
      "XLI:         0.1712    17.12 %\n",
      "S&P 500:     0.1486    14.86 %\n"
     ]
    }
   ],
   "source": [
    "print('Anualized Standard Deviation')\n",
    "print('             Absolute', 'Percentage')\n",
    "print('=================================')\n",
    "print('XLE:        ', XLE_std_annualized, '  ', round(XLE_std_annualized*100, 2),'%')\n",
    "print('XLI:        ', XLI_std_annualized, '  ', round(XLI_std_annualized*100, 2),'%')\n",
    "print('S&P 500:    ', SP500_std_annualized, '  ', round(SP500_std_annualized*100, 2),'%')"
   ]
  },
  {
   "cell_type": "markdown",
   "metadata": {},
   "source": [
    "### Expected Return using Capital Asset Pricing Model (CAPM)\n",
    "\n",
    "The Expected return for each asset using the CAPM is calculated as follows:\n",
    "\n",
    "$$ E(R_i )=R_f+\\beta(R_m-R_f)$$\n",
    "\n",
    "Where:\n",
    "       \n",
    "$ E(R_i)$ is the expected return for the upcoming year of the asset\n",
    "\n",
    "$ R_f $ is the risk-free rate of return = 2.25%\n",
    "\n",
    "$ \\beta $ is the Beta Value of an asset = 1.07 for XLE and 1.06 for XLI\n",
    "\n",
    "$ R_m $ is the is the Market Rate of Return = 9.0%\n"
   ]
  },
  {
   "cell_type": "code",
   "execution_count": 73,
   "metadata": {},
   "outputs": [],
   "source": [
    "# Defined Variables\n",
    "beta_xle = 1.07 #Beta Value of XLE\n",
    "beta_xli = 1.06 #Beta Value of XLI\n",
    "risk_free_rate = 0.0225 # Risk Free Rate\n",
    "market_return = 0.09 #Market Return\n",
    "market_std = 0.15 #Market Standard Deviation"
   ]
  },
  {
   "cell_type": "code",
   "execution_count": 74,
   "metadata": {},
   "outputs": [],
   "source": [
    "# Expected Return of XLE\n",
    "ret_xle = risk_free_rate + beta_xle * (market_return - risk_free_rate)\n",
    "\n",
    "# Expected Return of XLI\n",
    "ret_xli = risk_free_rate + beta_xli * (market_return - risk_free_rate)\n",
    "\n",
    "# Expected Return of S&P 500\n",
    "ret_sp500 = risk_free_rate + 1 * (market_return - risk_free_rate) #Market beta is 1"
   ]
  },
  {
   "cell_type": "code",
   "execution_count": 75,
   "metadata": {},
   "outputs": [
    {
     "name": "stdout",
     "output_type": "stream",
     "text": [
      "Expected Returns\n",
      "============================\n",
      "XLE:                 9.47 %\n",
      "XLI:                 9.4 %\n",
      "S&P 500:             9.0 %\n"
     ]
    }
   ],
   "source": [
    "print('Expected Returns')\n",
    "print('============================')\n",
    "print('XLE:                ', np.round(ret_xle,4)*100,'%')\n",
    "print('XLI:                ', np.round(ret_xli,4)*100,'%')\n",
    "print('S&P 500:            ', np.round(ret_sp500,4)*100,'%')"
   ]
  },
  {
   "cell_type": "markdown",
   "metadata": {},
   "source": [
    "### Correlation of returns"
   ]
  },
  {
   "cell_type": "code",
   "execution_count": 76,
   "metadata": {},
   "outputs": [],
   "source": [
    "ret_corr = data_df[['XLE Ret', 'XLI Ret']].corr()"
   ]
  },
  {
   "cell_type": "code",
   "execution_count": 77,
   "metadata": {
    "scrolled": true
   },
   "outputs": [
    {
     "data": {
      "text/html": [
       "<div>\n",
       "<style scoped>\n",
       "    .dataframe tbody tr th:only-of-type {\n",
       "        vertical-align: middle;\n",
       "    }\n",
       "\n",
       "    .dataframe tbody tr th {\n",
       "        vertical-align: top;\n",
       "    }\n",
       "\n",
       "    .dataframe thead th {\n",
       "        text-align: right;\n",
       "    }\n",
       "</style>\n",
       "<table border=\"1\" class=\"dataframe\">\n",
       "  <thead>\n",
       "    <tr style=\"text-align: right;\">\n",
       "      <th></th>\n",
       "      <th>XLE Ret</th>\n",
       "      <th>XLI Ret</th>\n",
       "    </tr>\n",
       "  </thead>\n",
       "  <tbody>\n",
       "    <tr>\n",
       "      <th>XLE Ret</th>\n",
       "      <td>1.00000</td>\n",
       "      <td>0.65965</td>\n",
       "    </tr>\n",
       "    <tr>\n",
       "      <th>XLI Ret</th>\n",
       "      <td>0.65965</td>\n",
       "      <td>1.00000</td>\n",
       "    </tr>\n",
       "  </tbody>\n",
       "</table>\n",
       "</div>"
      ],
      "text/plain": [
       "         XLE Ret  XLI Ret\n",
       "XLE Ret  1.00000  0.65965\n",
       "XLI Ret  0.65965  1.00000"
      ]
     },
     "execution_count": 77,
     "metadata": {},
     "output_type": "execute_result"
    }
   ],
   "source": [
    "ret_corr"
   ]
  },
  {
   "cell_type": "code",
   "execution_count": 78,
   "metadata": {},
   "outputs": [
    {
     "name": "stdout",
     "output_type": "stream",
     "text": [
      "The Correlation between the two sectors is:  0.66\n"
     ]
    }
   ],
   "source": [
    "corr_value = np.round(ret_corr['XLE Ret'][1],3)\n",
    "print('The Correlation between the two sectors is: ', corr_value)"
   ]
  },
  {
   "cell_type": "markdown",
   "metadata": {},
   "source": [
    "### Effifient Frontier\n",
    "\n",
    "Construct the Efficient Frontier of the two ETFs using the different weight combinations"
   ]
  },
  {
   "cell_type": "code",
   "execution_count": 79,
   "metadata": {},
   "outputs": [],
   "source": [
    "#Define the weights for the various portfolio combinations\n",
    "xle_weights = np.linspace(0,100,11)\n",
    "xli_weights = np.linspace(100,0,11)\n",
    "\n",
    "#Put the Weights Combinations in a Data Frame\n",
    "weights_df = DataFrame()\n",
    "weights_df['XLE Weight'] = xle_weights\n",
    "weights_df['XLI Weight'] = xli_weights"
   ]
  },
  {
   "cell_type": "code",
   "execution_count": 80,
   "metadata": {
    "scrolled": true
   },
   "outputs": [
    {
     "data": {
      "text/html": [
       "<div>\n",
       "<style scoped>\n",
       "    .dataframe tbody tr th:only-of-type {\n",
       "        vertical-align: middle;\n",
       "    }\n",
       "\n",
       "    .dataframe tbody tr th {\n",
       "        vertical-align: top;\n",
       "    }\n",
       "\n",
       "    .dataframe thead th {\n",
       "        text-align: right;\n",
       "    }\n",
       "</style>\n",
       "<table border=\"1\" class=\"dataframe\">\n",
       "  <thead>\n",
       "    <tr style=\"text-align: right;\">\n",
       "      <th></th>\n",
       "      <th>XLE Weight</th>\n",
       "      <th>XLI Weight</th>\n",
       "    </tr>\n",
       "  </thead>\n",
       "  <tbody>\n",
       "    <tr>\n",
       "      <th>0</th>\n",
       "      <td>0.0</td>\n",
       "      <td>100.0</td>\n",
       "    </tr>\n",
       "    <tr>\n",
       "      <th>1</th>\n",
       "      <td>10.0</td>\n",
       "      <td>90.0</td>\n",
       "    </tr>\n",
       "    <tr>\n",
       "      <th>2</th>\n",
       "      <td>20.0</td>\n",
       "      <td>80.0</td>\n",
       "    </tr>\n",
       "    <tr>\n",
       "      <th>3</th>\n",
       "      <td>30.0</td>\n",
       "      <td>70.0</td>\n",
       "    </tr>\n",
       "    <tr>\n",
       "      <th>4</th>\n",
       "      <td>40.0</td>\n",
       "      <td>60.0</td>\n",
       "    </tr>\n",
       "    <tr>\n",
       "      <th>5</th>\n",
       "      <td>50.0</td>\n",
       "      <td>50.0</td>\n",
       "    </tr>\n",
       "    <tr>\n",
       "      <th>6</th>\n",
       "      <td>60.0</td>\n",
       "      <td>40.0</td>\n",
       "    </tr>\n",
       "    <tr>\n",
       "      <th>7</th>\n",
       "      <td>70.0</td>\n",
       "      <td>30.0</td>\n",
       "    </tr>\n",
       "    <tr>\n",
       "      <th>8</th>\n",
       "      <td>80.0</td>\n",
       "      <td>20.0</td>\n",
       "    </tr>\n",
       "    <tr>\n",
       "      <th>9</th>\n",
       "      <td>90.0</td>\n",
       "      <td>10.0</td>\n",
       "    </tr>\n",
       "    <tr>\n",
       "      <th>10</th>\n",
       "      <td>100.0</td>\n",
       "      <td>0.0</td>\n",
       "    </tr>\n",
       "  </tbody>\n",
       "</table>\n",
       "</div>"
      ],
      "text/plain": [
       "    XLE Weight  XLI Weight\n",
       "0          0.0       100.0\n",
       "1         10.0        90.0\n",
       "2         20.0        80.0\n",
       "3         30.0        70.0\n",
       "4         40.0        60.0\n",
       "5         50.0        50.0\n",
       "6         60.0        40.0\n",
       "7         70.0        30.0\n",
       "8         80.0        20.0\n",
       "9         90.0        10.0\n",
       "10       100.0         0.0"
      ]
     },
     "execution_count": 80,
     "metadata": {},
     "output_type": "execute_result"
    }
   ],
   "source": [
    "weights_df"
   ]
  },
  {
   "cell_type": "markdown",
   "metadata": {},
   "source": [
    "### Computing Returns and Volatility for Each Weights Combination\n",
    "\n",
    "Portfolio Returns is calculated as a sum of the individual ETFs weighted returns\n",
    "\n",
    "$$ R_p = w_1 * R_1+ w_2 * 𝑅_2 $$\n",
    "\n",
    "Where:\n",
    "\n",
    "$ R_p $ is the Expected Portfolio Returns\n",
    "\n",
    "$ R_1 $ and $ R_2 $ are the Expected Returns for the two ETFs\n",
    "\n",
    "$ w_1 $ and $ 𝑤_2 $ are the respective weights of the two ETFs\n",
    "\n",
    "The Portfolio Volatilitty is calculated using the individual volatilities as \n",
    "\n",
    "$$ \\sigma_p = \\sqrt{w_1^2\\sigma_1^2 + w_2^2\\sigma_2^2 + 2w_1\\sigma_1w_2\\sigma_2\\rho_{12}}$$\n",
    "\n",
    "Where:\n",
    "\n",
    "$ \\sigma_p $ is the Portfolio Volatility\n",
    "\n",
    "$ \\sigma_1 $ and $ \\sigma_2 $ are the respective Volatilities for the two ETFs\n",
    "\n",
    "$ w_1 $ and $ w_2 $ are the respective weights for the two ETFs\n",
    "\n",
    "$ \\rho_{12} $ is the correlation between the two ETFs in the portfolio."
   ]
  },
  {
   "cell_type": "code",
   "execution_count": 81,
   "metadata": {},
   "outputs": [],
   "source": [
    "#Create a Portfolio Data Frame\n",
    "portfolio = weights_df.copy()\n",
    "\n",
    "#Volatilities\n",
    "xle_vol = XLE_std_annualized\n",
    "xli_vol = XLI_std_annualized\n",
    "\n",
    "#Expected Returns and Correlation\n",
    "er_xle = ret_xle #XLE Expected Returns\n",
    "er_xli = ret_xli #XLI Expected Returns\n",
    "cor = corr_value #Correlation of the two ETFs"
   ]
  },
  {
   "cell_type": "code",
   "execution_count": 82,
   "metadata": {},
   "outputs": [],
   "source": [
    "#Compure Returns and Volatility for each combination\n",
    "\n",
    "#Portfolio Return\n",
    "portfolio['Portfolio Returns'] = ((portfolio['XLE Weight']*er_xle) + \n",
    "                              (portfolio['XLI Weight']*er_xli))\n",
    "\n",
    "#Portfolio Volatility\n",
    "portfolio['Volatility'] = np.sqrt(((portfolio['XLE Weight'])**2 * xle_vol**2) + \n",
    "                              ((portfolio['XLI Weight'])**2 * xli_vol**2) +\n",
    "                              (2 * (portfolio['XLE Weight']) * xle_vol *\n",
    "                              (portfolio['XLI Weight']) * xli_vol) * cor)"
   ]
  },
  {
   "cell_type": "code",
   "execution_count": 83,
   "metadata": {},
   "outputs": [
    {
     "data": {
      "text/html": [
       "<div>\n",
       "<style scoped>\n",
       "    .dataframe tbody tr th:only-of-type {\n",
       "        vertical-align: middle;\n",
       "    }\n",
       "\n",
       "    .dataframe tbody tr th {\n",
       "        vertical-align: top;\n",
       "    }\n",
       "\n",
       "    .dataframe thead th {\n",
       "        text-align: right;\n",
       "    }\n",
       "</style>\n",
       "<table border=\"1\" class=\"dataframe\">\n",
       "  <thead>\n",
       "    <tr style=\"text-align: right;\">\n",
       "      <th></th>\n",
       "      <th>XLE Weight</th>\n",
       "      <th>XLI Weight</th>\n",
       "      <th>Portfolio Returns</th>\n",
       "      <th>Volatility</th>\n",
       "    </tr>\n",
       "  </thead>\n",
       "  <tbody>\n",
       "    <tr>\n",
       "      <th>0</th>\n",
       "      <td>0.0</td>\n",
       "      <td>100.0</td>\n",
       "      <td>9.40500</td>\n",
       "      <td>17.120000</td>\n",
       "    </tr>\n",
       "    <tr>\n",
       "      <th>1</th>\n",
       "      <td>10.0</td>\n",
       "      <td>90.0</td>\n",
       "      <td>9.41175</td>\n",
       "      <td>16.818545</td>\n",
       "    </tr>\n",
       "    <tr>\n",
       "      <th>2</th>\n",
       "      <td>20.0</td>\n",
       "      <td>80.0</td>\n",
       "      <td>9.41850</td>\n",
       "      <td>16.660385</td>\n",
       "    </tr>\n",
       "    <tr>\n",
       "      <th>3</th>\n",
       "      <td>30.0</td>\n",
       "      <td>70.0</td>\n",
       "      <td>9.42525</td>\n",
       "      <td>16.649606</td>\n",
       "    </tr>\n",
       "    <tr>\n",
       "      <th>4</th>\n",
       "      <td>40.0</td>\n",
       "      <td>60.0</td>\n",
       "      <td>9.43200</td>\n",
       "      <td>16.786490</td>\n",
       "    </tr>\n",
       "    <tr>\n",
       "      <th>5</th>\n",
       "      <td>50.0</td>\n",
       "      <td>50.0</td>\n",
       "      <td>9.43875</td>\n",
       "      <td>17.067486</td>\n",
       "    </tr>\n",
       "    <tr>\n",
       "      <th>6</th>\n",
       "      <td>60.0</td>\n",
       "      <td>40.0</td>\n",
       "      <td>9.44550</td>\n",
       "      <td>17.485647</td>\n",
       "    </tr>\n",
       "    <tr>\n",
       "      <th>7</th>\n",
       "      <td>70.0</td>\n",
       "      <td>30.0</td>\n",
       "      <td>9.45225</td>\n",
       "      <td>18.031433</td>\n",
       "    </tr>\n",
       "    <tr>\n",
       "      <th>8</th>\n",
       "      <td>80.0</td>\n",
       "      <td>20.0</td>\n",
       "      <td>9.45900</td>\n",
       "      <td>18.693668</td>\n",
       "    </tr>\n",
       "    <tr>\n",
       "      <th>9</th>\n",
       "      <td>90.0</td>\n",
       "      <td>10.0</td>\n",
       "      <td>9.46575</td>\n",
       "      <td>19.460469</td>\n",
       "    </tr>\n",
       "    <tr>\n",
       "      <th>10</th>\n",
       "      <td>100.0</td>\n",
       "      <td>0.0</td>\n",
       "      <td>9.47250</td>\n",
       "      <td>20.320000</td>\n",
       "    </tr>\n",
       "  </tbody>\n",
       "</table>\n",
       "</div>"
      ],
      "text/plain": [
       "    XLE Weight  XLI Weight  Portfolio Returns  Volatility\n",
       "0          0.0       100.0            9.40500   17.120000\n",
       "1         10.0        90.0            9.41175   16.818545\n",
       "2         20.0        80.0            9.41850   16.660385\n",
       "3         30.0        70.0            9.42525   16.649606\n",
       "4         40.0        60.0            9.43200   16.786490\n",
       "5         50.0        50.0            9.43875   17.067486\n",
       "6         60.0        40.0            9.44550   17.485647\n",
       "7         70.0        30.0            9.45225   18.031433\n",
       "8         80.0        20.0            9.45900   18.693668\n",
       "9         90.0        10.0            9.46575   19.460469\n",
       "10       100.0         0.0            9.47250   20.320000"
      ]
     },
     "execution_count": 83,
     "metadata": {},
     "output_type": "execute_result"
    }
   ],
   "source": [
    "portfolio"
   ]
  },
  {
   "cell_type": "code",
   "execution_count": 84,
   "metadata": {},
   "outputs": [
    {
     "data": {
      "image/png": "[encoded data removed]",
      "text/plain": [
       "<Figure size 576x432 with 1 Axes>"
      ]
     },
     "metadata": {},
     "output_type": "display_data"
    }
   ],
   "source": [
    "#Plot of the Portfolio Efficient Frontier\n",
    "\n",
    "plt.figure(figsize= (8,6))\n",
    "\n",
    "plt.title('Portfolio Efficient Frontier', fontsize=16)\n",
    "plt.scatter(portfolio['Volatility'], \n",
    "            portfolio['Portfolio Returns'], \n",
    "            color='r', alpha=0.6)\n",
    "\n",
    "plt.xlabel('Portfolio Volatility', fontsize=12)\n",
    "plt.ylabel('Portfolio Returns', fontsize=12)\n",
    "\n",
    "plt.show()"
   ]
  },
  {
   "cell_type": "markdown",
   "metadata": {},
   "source": [
    "### Portfolio Selection"
   ]
  },
  {
   "cell_type": "code",
   "execution_count": 85,
   "metadata": {},
   "outputs": [],
   "source": [
    "#Define the Portfolio Constraints\n",
    "Vol_threshold = 16.8\n",
    "return_threshold = 9.43\n",
    "n = len(portfolio)"
   ]
  },
  {
   "cell_type": "code",
   "execution_count": 86,
   "metadata": {},
   "outputs": [],
   "source": [
    "# Data ponts for Returns and Volatility\n",
    "points = []\n",
    "for i, j in zip(portfolio['Volatility'], portfolio['Portfolio Returns']):\n",
    "    points.append((i,j))                       \n",
    "\n",
    "# Portfolio Weights, (xle, xli)\n",
    "w = []\n",
    "for i, j in zip(portfolio['XLE Weight'], portfolio['XLI Weight']):\n",
    "    w.append((i, j))"
   ]
  },
  {
   "cell_type": "code",
   "execution_count": 87,
   "metadata": {},
   "outputs": [
    {
     "data": {
      "image/png": "[encoded data removed]",
      "text/plain": [
       "<Figure size 576x432 with 1 Axes>"
      ]
     },
     "metadata": {},
     "output_type": "display_data"
    }
   ],
   "source": [
    "#Plot of the Portfolio Efficient Frontier with the Constraints\n",
    "\n",
    "plt.figure(figsize= (8,6))\n",
    "\n",
    "plt.title('Portfolio Efficient Frontier', fontsize=16)\n",
    "\n",
    "plt.plot(portfolio['Volatility'], portfolio['Portfolio Returns'],\n",
    "         '-or', alpha=0.8, label='Efficient Frontier')\n",
    "\n",
    "plt.plot(n * [Vol_threshold], portfolio['Portfolio Returns'],\n",
    "        label = 'Volatility Threshold')\n",
    "\n",
    "plt.plot(np.linspace(16.5,20.5,11), n * [return_threshold],\n",
    "        label = 'Returns Threshold')\n",
    "\n",
    "for i, j in zip(points, w):\n",
    "    plt.text(i[0],i[1],j)\n",
    "\n",
    "plt.xlabel('Portfolio Volatility', fontsize=12)\n",
    "plt.ylabel('Portfolio Returns', fontsize=12)\n",
    "\n",
    "plt.legend()\n",
    "plt.show()"
   ]
  },
  {
   "cell_type": "markdown",
   "metadata": {},
   "source": [
    "### Portfolio Performance\n",
    "\n",
    "#### Compare the Performance of the Selected Portfolio meeting the Defined Criteria\n",
    "\n",
    "#### Portfolio meeting the defined criteria is 40% XLE and 60% XLI"
   ]
  },
  {
   "cell_type": "markdown",
   "metadata": {},
   "source": [
    "#### Returns and Risk"
   ]
  },
  {
   "cell_type": "code",
   "execution_count": 88,
   "metadata": {},
   "outputs": [],
   "source": [
    "#Portolio Returns\n",
    "port_ret = float(portfolio['Portfolio Returns'][portfolio['XLE Weight']==40])\n",
    "\n",
    "#Portolio Volatility\n",
    "port_vol = float(portfolio['Volatility'][portfolio['XLE Weight']==40])"
   ]
  },
  {
   "cell_type": "code",
   "execution_count": 89,
   "metadata": {},
   "outputs": [],
   "source": [
    "#S&P 500 Returns\n",
    "sp500_ret = market_return * 100\n",
    "\n",
    "#S&P 500 Volatility\n",
    "sp500_vol = market_std * 100"
   ]
  },
  {
   "cell_type": "code",
   "execution_count": 90,
   "metadata": {},
   "outputs": [],
   "source": [
    "performance_df = DataFrame([[port_ret, port_vol], [sp500_ret, sp500_vol]], \n",
    "                           index = ['Portfolio', 'S&P 500'], columns = ['Returns', 'Volatility'])"
   ]
  },
  {
   "cell_type": "code",
   "execution_count": 91,
   "metadata": {},
   "outputs": [
    {
     "data": {
      "text/html": [
       "<div>\n",
       "<style scoped>\n",
       "    .dataframe tbody tr th:only-of-type {\n",
       "        vertical-align: middle;\n",
       "    }\n",
       "\n",
       "    .dataframe tbody tr th {\n",
       "        vertical-align: top;\n",
       "    }\n",
       "\n",
       "    .dataframe thead th {\n",
       "        text-align: right;\n",
       "    }\n",
       "</style>\n",
       "<table border=\"1\" class=\"dataframe\">\n",
       "  <thead>\n",
       "    <tr style=\"text-align: right;\">\n",
       "      <th></th>\n",
       "      <th>Returns</th>\n",
       "      <th>Volatility</th>\n",
       "    </tr>\n",
       "  </thead>\n",
       "  <tbody>\n",
       "    <tr>\n",
       "      <th>Portfolio</th>\n",
       "      <td>9.432</td>\n",
       "      <td>16.78649</td>\n",
       "    </tr>\n",
       "    <tr>\n",
       "      <th>S&amp;P 500</th>\n",
       "      <td>9.000</td>\n",
       "      <td>15.00000</td>\n",
       "    </tr>\n",
       "  </tbody>\n",
       "</table>\n",
       "</div>"
      ],
      "text/plain": [
       "           Returns  Volatility\n",
       "Portfolio    9.432    16.78649\n",
       "S&P 500      9.000    15.00000"
      ]
     },
     "execution_count": 91,
     "metadata": {},
     "output_type": "execute_result"
    }
   ],
   "source": [
    "performance_df"
   ]
  },
  {
   "cell_type": "code",
   "execution_count": null,
   "metadata": {},
   "outputs": [],
   "source": []
  },
  {
   "cell_type": "markdown",
   "metadata": {},
   "source": [
    "#### Risk Adjusted Returns"
   ]
  },
  {
   "cell_type": "code",
   "execution_count": 92,
   "metadata": {},
   "outputs": [],
   "source": [
    "#Risk-Free Rate\n",
    "risk_free = risk_free_rate"
   ]
  },
  {
   "cell_type": "code",
   "execution_count": 93,
   "metadata": {},
   "outputs": [
    {
     "data": {
      "text/plain": [
       "array([8.84351504, 8.9775    ])"
      ]
     },
     "execution_count": 93,
     "metadata": {},
     "output_type": "execute_result"
    }
   ],
   "source": [
    "\"\"\"Treynor Measure\"\"\"\n",
    "\n",
    "#Asset Beta\n",
    "beta_xle = 1.07 #Beta Value of XLE\n",
    "beta_xli = 1.06 #Beta Value of XLI\n",
    "\n",
    "#Portfolio weights\n",
    "w_xle = 0.4\n",
    "w_xli = 0.6\n",
    "\n",
    "#Portfolio Beta\n",
    "beta_portfolio = beta_xle * w_xle + beta_xli * w_xli\n",
    "\n",
    "#S&P 500 Beta\n",
    "beta_sp500 = 1\n",
    "\n",
    "#Treynor Measure Ratio - Portfolio\n",
    "tr_portfolio = (port_ret - risk_free)/ beta_portfolio\n",
    "\n",
    "#Treynor Measure Ratio -S&P 500\n",
    "tr_sp500 = (sp500_ret - risk_free)/ beta_sp500\n",
    "\n",
    "#Treynor Measure Ratios\n",
    "trm_ratios = np.array([tr_portfolio, tr_sp500])\n",
    "\n",
    "trm_ratios"
   ]
  },
  {
   "cell_type": "code",
   "execution_count": null,
   "metadata": {},
   "outputs": [],
   "source": []
  },
  {
   "cell_type": "code",
   "execution_count": 94,
   "metadata": {},
   "outputs": [
    {
     "data": {
      "text/plain": [
       "array([0.56054005, 0.5985    ])"
      ]
     },
     "execution_count": 94,
     "metadata": {},
     "output_type": "execute_result"
    }
   ],
   "source": [
    "\"\"\"Sharpe Ratios\"\"\"\n",
    "\n",
    "#Portfolio Sharpe Ratio\n",
    "sr_portfolio = (port_ret - risk_free)/ port_vol\n",
    "\n",
    "#S&P 500 Sharpe Ratio\n",
    "sr_sp500 = (sp500_ret - risk_free)/ sp500_vol\n",
    "\n",
    "#Sharpe Ratios\n",
    "\n",
    "sharpe_ratios = np.array([sr_portfolio, sr_sp500])\n",
    "\n",
    "sharpe_ratios"
   ]
  },
  {
   "cell_type": "code",
   "execution_count": 95,
   "metadata": {},
   "outputs": [],
   "source": [
    "\"\"\"Risk Adjusted Returns Measures\"\"\"\n",
    "performance_measures = DataFrame([trm_ratios, sharpe_ratios], \n",
    "                                 index = ['Treynor', 'Sharpe'],\n",
    "                                columns = ['Portfolio', 'S&P 500'])\n",
    "\n",
    "performance_measures = performance_measures.T"
   ]
  },
  {
   "cell_type": "code",
   "execution_count": 96,
   "metadata": {
    "scrolled": true
   },
   "outputs": [
    {
     "data": {
      "text/html": [
       "<div>\n",
       "<style scoped>\n",
       "    .dataframe tbody tr th:only-of-type {\n",
       "        vertical-align: middle;\n",
       "    }\n",
       "\n",
       "    .dataframe tbody tr th {\n",
       "        vertical-align: top;\n",
       "    }\n",
       "\n",
       "    .dataframe thead th {\n",
       "        text-align: right;\n",
       "    }\n",
       "</style>\n",
       "<table border=\"1\" class=\"dataframe\">\n",
       "  <thead>\n",
       "    <tr style=\"text-align: right;\">\n",
       "      <th></th>\n",
       "      <th>Treynor</th>\n",
       "      <th>Sharpe</th>\n",
       "    </tr>\n",
       "  </thead>\n",
       "  <tbody>\n",
       "    <tr>\n",
       "      <th>Portfolio</th>\n",
       "      <td>8.843515</td>\n",
       "      <td>0.56054</td>\n",
       "    </tr>\n",
       "    <tr>\n",
       "      <th>S&amp;P 500</th>\n",
       "      <td>8.977500</td>\n",
       "      <td>0.59850</td>\n",
       "    </tr>\n",
       "  </tbody>\n",
       "</table>\n",
       "</div>"
      ],
      "text/plain": [
       "            Treynor   Sharpe\n",
       "Portfolio  8.843515  0.56054\n",
       "S&P 500    8.977500  0.59850"
      ]
     },
     "execution_count": 96,
     "metadata": {},
     "output_type": "execute_result"
    }
   ],
   "source": [
    "performance_measures"
   ]
  },
  {
   "cell_type": "markdown",
   "metadata": {},
   "source": [
    "The portfolio performance does not beat the benchmark S&P 500 owing to the fact that the Sharpe Ratio and the Treynor Measure Ratio for the S&P 500 are greater than our selected portfolio"
   ]
  },
  {
   "cell_type": "code",
   "execution_count": null,
   "metadata": {},
   "outputs": [],
   "source": []
  }
 ],
 "metadata": {
  "kernelspec": {
   "display_name": "Python 3",
   "language": "python",
   "name": "python3"
  },
  "language_info": {
   "codemirror_mode": {
    "name": "ipython",
    "version": 3
   },
   "file_extension": ".py",
   "mimetype": "text/x-python",
   "name": "python",
   "nbconvert_exporter": "python",
   "pygments_lexer": "ipython3",
   "version": "3.7.3"
  }
 },
 "nbformat": 4,
 "nbformat_minor": 2
}
